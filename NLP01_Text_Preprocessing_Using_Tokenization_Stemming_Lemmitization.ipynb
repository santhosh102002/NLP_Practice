{
  "nbformat": 4,
  "nbformat_minor": 0,
  "metadata": {
    "colab": {
      "provenance": []
    },
    "kernelspec": {
      "name": "python3",
      "display_name": "Python 3"
    },
    "language_info": {
      "name": "python"
    }
  },
  "cells": [
    {
      "cell_type": "code",
      "execution_count": null,
      "metadata": {
        "id": "lA1D0-yoFj2m"
      },
      "outputs": [],
      "source": [
        "import nltk"
      ]
    },
    {
      "cell_type": "code",
      "source": [
        "nltk.download('punkt') ## Used to download the Tokenization library"
      ],
      "metadata": {
        "colab": {
          "base_uri": "https://localhost:8080/"
        },
        "id": "FrdKiyGTFyuC",
        "outputId": "7f77eec4-4061-4fce-fd36-31256fc01389"
      },
      "execution_count": null,
      "outputs": [
        {
          "output_type": "stream",
          "name": "stderr",
          "text": [
            "[nltk_data] Downloading package punkt to /root/nltk_data...\n",
            "[nltk_data]   Unzipping tokenizers/punkt.zip.\n"
          ]
        },
        {
          "output_type": "execute_result",
          "data": {
            "text/plain": [
              "True"
            ]
          },
          "metadata": {},
          "execution_count": 2
        }
      ]
    },
    {
      "cell_type": "code",
      "source": [
        "paragrah = \"\"\"Jesus[d] (c. 6 to 4 BC – AD 30 or 33), also referred to as Jesus Christ,[e] Jesus of Nazareth, and many other names and titles, was a first-century Jewish preacher and religious leader.[10] He is the central figure of Christianity, the world's largest religion. Most Christians believe Jesus to be the incarnation of God the Son and the awaited Jewish messiah, the Christ that is prophesied in the Hebrew Bible.\n",
        "\n",
        "Virtually all modern scholars of antiquity agree that Jesus existed historically.[f] Accounts of Jesus' life are contained in the Gospels, especially the four canonical Gospels in the New Testament. Academic research has yielded various views on the historical reliability of the Gospels and how closely they reflect the historical Jesus.[18][g][21][22] Jesus was a Galilean Jew who was circumcised, was baptized by John the Baptist, began his own ministry, and was often referred to as \"rabbi\".[23] Jesus debated with fellow Jews on how to best follow God, engaged in healings, taught in parables, and gathered followers. He was arrested in Jerusalem and tried by the Jewish authorities,[24] turned over to the Roman government, and crucified on the order of Pontius Pilate, the Roman prefect of Judea. After his death, his followers believed he rose from the dead, and the community they formed eventually became the early Christian Church.[25] Accounts of his teachings and life were initially conserved by oral transmission, which was the source of the written Gospels.[26]\n",
        "\n",
        "Christian theology includes the beliefs that Jesus was conceived by the Holy Spirit, was born of a virgin named Mary, performed miracles, founded the Christian Church, died by crucifixion as a sacrifice to achieve atonement for sin, rose from the dead, and ascended into Heaven, from where he will return. Commonly, Christians believe Jesus enables people to be reconciled to God. The Nicene Creed asserts that Jesus will judge the living and the dead, either before or after their bodily resurrection, an event tied to the Second Coming of Jesus in Christian eschatology. The great majority of Christians worship Jesus as the incarnation of God the Son, the second of three prosopons of the Trinity.[h] The birth of Jesus is celebrated annually on 25 December as Christmas.[i] His crucifixion is honored on Good Friday and his resurrection on Easter Sunday. The world's most widely used calendar era—in which the current year is AD 2023 (or 2023 CE)—is based on the approximate birthdate of Jesus.[27]\n",
        "\n",
        "Jesus is also revered in the Baha'i faith, the Druze faith, and Islam. In Islam, Jesus (often referred to by his Quranic name ʿĪsā) is considered the penultimate prophet of God and the messiah, who will return before the Day of Judgement. Muslims believe Jesus was born of the virgin Mary but was neither God nor a son of God. Most Muslims do not believe that he was killed or crucified but that God raised him into Heaven while he was still alive.[j] In contrast, Judaism rejects the belief that Jesus was the awaited messiah, arguing that he did not fulfill messianic prophecies, was not lawfully anointed and was neither divine nor resurrected.\n",
        "\"\"\"\n"
      ],
      "metadata": {
        "id": "eRCbeRyZF5ec"
      },
      "execution_count": null,
      "outputs": []
    },
    {
      "cell_type": "code",
      "source": [
        "sentences = nltk.sent_tokenize(paragrah)"
      ],
      "metadata": {
        "id": "2Bbx9vPCG6w6"
      },
      "execution_count": null,
      "outputs": []
    },
    {
      "cell_type": "code",
      "source": [
        "sentences"
      ],
      "metadata": {
        "colab": {
          "base_uri": "https://localhost:8080/"
        },
        "id": "fvOvo3E2HBKz",
        "outputId": "9fa2bef7-5106-42f1-ea9b-54765202cc6c"
      },
      "execution_count": null,
      "outputs": [
        {
          "output_type": "execute_result",
          "data": {
            "text/plain": [
              "['Jesus[d] (c.\\u20096 to 4 BC – AD 30 or 33), also referred to as Jesus Christ,[e] Jesus of Nazareth, and many other names and titles, was a first-century Jewish preacher and religious leader.',\n",
              " \"[10] He is the central figure of Christianity, the world's largest religion.\",\n",
              " 'Most Christians believe Jesus to be the incarnation of God the Son and the awaited Jewish messiah, the Christ that is prophesied in the Hebrew Bible.',\n",
              " 'Virtually all modern scholars of antiquity agree that Jesus existed historically.',\n",
              " \"[f] Accounts of Jesus' life are contained in the Gospels, especially the four canonical Gospels in the New Testament.\",\n",
              " 'Academic research has yielded various views on the historical reliability of the Gospels and how closely they reflect the historical Jesus.',\n",
              " '[18][g][21][22] Jesus was a Galilean Jew who was circumcised, was baptized by John the Baptist, began his own ministry, and was often referred to as \"rabbi\".',\n",
              " '[23] Jesus debated with fellow Jews on how to best follow God, engaged in healings, taught in parables, and gathered followers.',\n",
              " 'He was arrested in Jerusalem and tried by the Jewish authorities,[24] turned over to the Roman government, and crucified on the order of Pontius Pilate, the Roman prefect of Judea.',\n",
              " 'After his death, his followers believed he rose from the dead, and the community they formed eventually became the early Christian Church.',\n",
              " '[25] Accounts of his teachings and life were initially conserved by oral transmission, which was the source of the written Gospels.',\n",
              " '[26]\\n\\nChristian theology includes the beliefs that Jesus was conceived by the Holy Spirit, was born of a virgin named Mary, performed miracles, founded the Christian Church, died by crucifixion as a sacrifice to achieve atonement for sin, rose from the dead, and ascended into Heaven, from where he will return.',\n",
              " 'Commonly, Christians believe Jesus enables people to be reconciled to God.',\n",
              " 'The Nicene Creed asserts that Jesus will judge the living and the dead, either before or after their bodily resurrection, an event tied to the Second Coming of Jesus in Christian eschatology.',\n",
              " 'The great majority of Christians worship Jesus as the incarnation of God the Son, the second of three prosopons of the Trinity.',\n",
              " '[h] The birth of Jesus is celebrated annually on 25 December as Christmas.',\n",
              " '[i] His crucifixion is honored on Good Friday and his resurrection on Easter Sunday.',\n",
              " \"The world's most widely used calendar era—in which the current year is AD 2023 (or 2023 CE)—is based on the approximate birthdate of Jesus.\",\n",
              " \"[27]\\n\\nJesus is also revered in the Baha'i faith, the Druze faith, and Islam.\",\n",
              " 'In Islam, Jesus (often referred to by his Quranic name ʿĪsā) is considered the penultimate prophet of God and the messiah, who will return before the Day of Judgement.',\n",
              " 'Muslims believe Jesus was born of the virgin Mary but was neither God nor a son of God.',\n",
              " 'Most Muslims do not believe that he was killed or crucified but that God raised him into Heaven while he was still alive.',\n",
              " '[j] In contrast, Judaism rejects the belief that Jesus was the awaited messiah, arguing that he did not fulfill messianic prophecies, was not lawfully anointed and was neither divine nor resurrected.']"
            ]
          },
          "metadata": {},
          "execution_count": 5
        }
      ]
    },
    {
      "cell_type": "code",
      "source": [
        "words = nltk.word_tokenize(paragrah)"
      ],
      "metadata": {
        "id": "8hjKx5xzHCFp"
      },
      "execution_count": null,
      "outputs": []
    },
    {
      "cell_type": "code",
      "source": [
        "nltk.download('stopwords')"
      ],
      "metadata": {
        "colab": {
          "base_uri": "https://localhost:8080/"
        },
        "id": "2sMDszzgHGGi",
        "outputId": "f39786c6-9a87-4b1d-f443-c6404579e328"
      },
      "execution_count": null,
      "outputs": [
        {
          "output_type": "stream",
          "name": "stderr",
          "text": [
            "[nltk_data] Downloading package stopwords to /root/nltk_data...\n",
            "[nltk_data]   Unzipping corpora/stopwords.zip.\n"
          ]
        },
        {
          "output_type": "execute_result",
          "data": {
            "text/plain": [
              "True"
            ]
          },
          "metadata": {},
          "execution_count": 8
        }
      ]
    },
    {
      "cell_type": "code",
      "source": [
        "stopwords = nltk.corpus.stopwords.words('english')"
      ],
      "metadata": {
        "id": "ENrgv8QKHnKr"
      },
      "execution_count": null,
      "outputs": []
    },
    {
      "cell_type": "code",
      "source": [
        "stopwords"
      ],
      "metadata": {
        "colab": {
          "base_uri": "https://localhost:8080/"
        },
        "id": "dOu5ocpWH0rW",
        "outputId": "e711fd7d-352f-4f0a-aee4-918c81514db8"
      },
      "execution_count": null,
      "outputs": [
        {
          "output_type": "execute_result",
          "data": {
            "text/plain": [
              "['i',\n",
              " 'me',\n",
              " 'my',\n",
              " 'myself',\n",
              " 'we',\n",
              " 'our',\n",
              " 'ours',\n",
              " 'ourselves',\n",
              " 'you',\n",
              " \"you're\",\n",
              " \"you've\",\n",
              " \"you'll\",\n",
              " \"you'd\",\n",
              " 'your',\n",
              " 'yours',\n",
              " 'yourself',\n",
              " 'yourselves',\n",
              " 'he',\n",
              " 'him',\n",
              " 'his',\n",
              " 'himself',\n",
              " 'she',\n",
              " \"she's\",\n",
              " 'her',\n",
              " 'hers',\n",
              " 'herself',\n",
              " 'it',\n",
              " \"it's\",\n",
              " 'its',\n",
              " 'itself',\n",
              " 'they',\n",
              " 'them',\n",
              " 'their',\n",
              " 'theirs',\n",
              " 'themselves',\n",
              " 'what',\n",
              " 'which',\n",
              " 'who',\n",
              " 'whom',\n",
              " 'this',\n",
              " 'that',\n",
              " \"that'll\",\n",
              " 'these',\n",
              " 'those',\n",
              " 'am',\n",
              " 'is',\n",
              " 'are',\n",
              " 'was',\n",
              " 'were',\n",
              " 'be',\n",
              " 'been',\n",
              " 'being',\n",
              " 'have',\n",
              " 'has',\n",
              " 'had',\n",
              " 'having',\n",
              " 'do',\n",
              " 'does',\n",
              " 'did',\n",
              " 'doing',\n",
              " 'a',\n",
              " 'an',\n",
              " 'the',\n",
              " 'and',\n",
              " 'but',\n",
              " 'if',\n",
              " 'or',\n",
              " 'because',\n",
              " 'as',\n",
              " 'until',\n",
              " 'while',\n",
              " 'of',\n",
              " 'at',\n",
              " 'by',\n",
              " 'for',\n",
              " 'with',\n",
              " 'about',\n",
              " 'against',\n",
              " 'between',\n",
              " 'into',\n",
              " 'through',\n",
              " 'during',\n",
              " 'before',\n",
              " 'after',\n",
              " 'above',\n",
              " 'below',\n",
              " 'to',\n",
              " 'from',\n",
              " 'up',\n",
              " 'down',\n",
              " 'in',\n",
              " 'out',\n",
              " 'on',\n",
              " 'off',\n",
              " 'over',\n",
              " 'under',\n",
              " 'again',\n",
              " 'further',\n",
              " 'then',\n",
              " 'once',\n",
              " 'here',\n",
              " 'there',\n",
              " 'when',\n",
              " 'where',\n",
              " 'why',\n",
              " 'how',\n",
              " 'all',\n",
              " 'any',\n",
              " 'both',\n",
              " 'each',\n",
              " 'few',\n",
              " 'more',\n",
              " 'most',\n",
              " 'other',\n",
              " 'some',\n",
              " 'such',\n",
              " 'no',\n",
              " 'nor',\n",
              " 'not',\n",
              " 'only',\n",
              " 'own',\n",
              " 'same',\n",
              " 'so',\n",
              " 'than',\n",
              " 'too',\n",
              " 'very',\n",
              " 's',\n",
              " 't',\n",
              " 'can',\n",
              " 'will',\n",
              " 'just',\n",
              " 'don',\n",
              " \"don't\",\n",
              " 'should',\n",
              " \"should've\",\n",
              " 'now',\n",
              " 'd',\n",
              " 'll',\n",
              " 'm',\n",
              " 'o',\n",
              " 're',\n",
              " 've',\n",
              " 'y',\n",
              " 'ain',\n",
              " 'aren',\n",
              " \"aren't\",\n",
              " 'couldn',\n",
              " \"couldn't\",\n",
              " 'didn',\n",
              " \"didn't\",\n",
              " 'doesn',\n",
              " \"doesn't\",\n",
              " 'hadn',\n",
              " \"hadn't\",\n",
              " 'hasn',\n",
              " \"hasn't\",\n",
              " 'haven',\n",
              " \"haven't\",\n",
              " 'isn',\n",
              " \"isn't\",\n",
              " 'ma',\n",
              " 'mightn',\n",
              " \"mightn't\",\n",
              " 'mustn',\n",
              " \"mustn't\",\n",
              " 'needn',\n",
              " \"needn't\",\n",
              " 'shan',\n",
              " \"shan't\",\n",
              " 'shouldn',\n",
              " \"shouldn't\",\n",
              " 'wasn',\n",
              " \"wasn't\",\n",
              " 'weren',\n",
              " \"weren't\",\n",
              " 'won',\n",
              " \"won't\",\n",
              " 'wouldn',\n",
              " \"wouldn't\"]"
            ]
          },
          "metadata": {},
          "execution_count": 11
        }
      ]
    },
    {
      "cell_type": "code",
      "source": [
        "from nltk.corpus import stopwords"
      ],
      "metadata": {
        "id": "61oT3J00H1W3"
      },
      "execution_count": null,
      "outputs": []
    },
    {
      "cell_type": "code",
      "source": [
        "from nltk.stem import PorterStemmer"
      ],
      "metadata": {
        "id": "mOoHNq5lH7dh"
      },
      "execution_count": null,
      "outputs": []
    },
    {
      "cell_type": "code",
      "source": [
        "sentences = nltk.sent_tokenize(paragrah)"
      ],
      "metadata": {
        "id": "SrZsTKqUIAkl"
      },
      "execution_count": null,
      "outputs": []
    },
    {
      "cell_type": "code",
      "source": [
        "stemmer = PorterStemmer()"
      ],
      "metadata": {
        "id": "hfZ9bH_wIGZO"
      },
      "execution_count": null,
      "outputs": []
    },
    {
      "cell_type": "code",
      "source": [
        "for i in range(len(sentences)):\n",
        "  words = nltk.word_tokenize(sentences[i])\n",
        "  words = [stemmer.stem(word) for word in words if word not in set(nltk.corpus.stopwords.words('english'))]\n",
        "  sentences[i] = ''.join(words)\n",
        "print(sentences)"
      ],
      "metadata": {
        "colab": {
          "base_uri": "https://localhost:8080/"
        },
        "id": "4QOOVL-tIN1r",
        "outputId": "643586ef-9ba2-43dd-e3d4-608b2aa63343"
      },
      "execution_count": null,
      "outputs": [
        {
          "output_type": "stream",
          "name": "stdout",
          "text": [
            "['jesu[](c.64bc–ad3033),alsoreferjesuchrist,[e]jesunazareth,maninametitl,first-centurijewishpreacherreligileader.', \"[10]hecentralfigurchristian,world'slargestreligion.\", 'mostchristianbelievjesuincarngodsonawaitjewishmessiah,christprophesihebrewbibl.', 'virtualmodernscholarantiquagrejesuexisthistor.', \"[f]accountjesu'lifecontaingospel,especifourcanongospelnewtestament.\", 'academresearchyieldvariouviewhistorreliablgospelclosereflecthistorjesu.', \"[18][g][21][22]jesugalileanjewcircumcis,baptizjohnbaptist,beganministri,oftenrefer``rabbi''.\", '[23]jesudebatfellowjewbestfollowgod,engagheal,taughtparabl,gatherfollow.', 'hearrestjerusalemtrijewishauthor,[24]turnromangovern,crucifiorderpontiupilat,romanprefectjudea.', 'afterdeath,followbelievrosedead,communformeventubecamearlichristianchurch.', '[25]accountteachlifeiniticonservoraltransmiss,sourcwrittengospel.', '[26]christiantheologincludbeliefjesuconceivholispirit,bornvirginnamemari,performmiracl,foundchristianchurch,diecrucifixionsacrificachievatonsin,rosedead,ascendheaven,return.', 'commonli,christianbelievjesuenablpeoplreconcilgod.', 'thenicencreedassertjesujudglivedead,eitherbodiliresurrect,eventtiesecondcomejesuchristianeschatolog.', 'thegreatmajorchristianworshipjesuincarngodson,secondthreeprosopontriniti.', '[h]thebirthjesucelebrannual25decembchristma.', '[]hicrucifixionhonorgoodfridayresurrecteastersunday.', \"theworld'swideusecalendarera—incurrentyearad2023(2023ce)—ibaseapproximbirthdatjesu.\", \"[27]jesualsoreverbaha'faith,druzefaith,islam.\", 'inislam,jesu(oftenreferqurannameʿīsā)considpenultimprophetgodmessiah,returndayjudgement.', 'muslimbelievjesubornvirginmarineithergodsongod.', 'mostmuslimbelievkillcrucifigodraisheavenstillaliv.', '[j]incontrast,judaismrejectbeliefjesuawaitmessiah,argufulfilmessianpropheci,lawanointneitherdivinresurrect.']\n"
          ]
        }
      ]
    },
    {
      "cell_type": "code",
      "source": [],
      "metadata": {
        "id": "gcFnqAT6IyIK"
      },
      "execution_count": null,
      "outputs": []
    }
  ]
}