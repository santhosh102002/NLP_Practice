{
  "nbformat": 4,
  "nbformat_minor": 0,
  "metadata": {
    "colab": {
      "provenance": []
    },
    "kernelspec": {
      "name": "python3",
      "display_name": "Python 3"
    },
    "language_info": {
      "name": "python"
    }
  },
  "cells": [
    {
      "cell_type": "code",
      "execution_count": 1,
      "metadata": {
        "colab": {
          "base_uri": "https://localhost:8080/"
        },
        "id": "I3MVAw2jxcmg",
        "outputId": "9b8102a7-6c0e-44c6-9307-cecc6743f73e"
      },
      "outputs": [
        {
          "output_type": "stream",
          "name": "stderr",
          "text": [
            "[nltk_data] Downloading package punkt to /root/nltk_data...\n",
            "[nltk_data]   Unzipping tokenizers/punkt.zip.\n"
          ]
        }
      ],
      "source": [
        "import nltk\n",
        "nltk.download('punkt')\n",
        "import re"
      ]
    },
    {
      "cell_type": "code",
      "source": [
        "paragraph = \"\"\"Narendra Damodardas Modi (Gujarati: [ˈnəɾendɾə dɑmodəɾˈdɑs ˈmodiː] ⓘ; born 17 September 1950)[b] is an Indian politician who has served as the 14th prime minister of India since May 2014. Modi was the Chief Minister of Gujarat from 2001 to 2014 and is the Member of Parliament (MP) for Varanasi. He is a member of the Bharatiya Janata Party (BJP) and of the Rashtriya Swayamsevak Sangh (RSS), a far right Hindu nationalist paramilitary volunteer organisation. He is the longest-serving prime minister from outside the Indian National Congress.\n",
        "\n",
        "Modi was born and raised in Vadnagar in northeastern Gujarat, where he completed his secondary education. He was introduced to the RSS at the age of eight. His account of helping his father sell tea at the Vadnagar railway station has not been reliably corroborated. At age 18, he was married to Jashodaben Modi, whom he abandoned soon after, only publicly acknowledging her four decades later when legally required to do so. Modi became a full-time worker for the RSS in Gujarat in 1971. The RSS assigned him to the BJP in 1985 and he held several positions within the party hierarchy until 2001, rising to the rank of general secretary.[c]\n",
        "\n",
        "In 2001, Modi was appointed Chief Minister of Gujarat and elected to the legislative assembly soon after. His administration is considered complicit in the 2002 Gujarat riots,[d] and has been criticised for its management of the crisis. A little over 1,000 people were killed, according to official records, three-quarters of whom were Muslim; independent sources estimated 2,000 deaths, mostly Muslim.[10] A Special Investigation Team appointed by the Supreme Court of India in 2012 found no evidence to initiate prosecution proceedings against him.[e] While his policies as chief minister, which were credited for encouraging economic growth, were praised, Modi's administration was criticised for failing to significantly improve health, poverty and education indices in the state.[f] In the 2014 Indian general election, Modi led the BJP to a parliamentary majority, the first for a party since 1984. His administration increased direct foreign investment, and it reduced spending on healthcare, education, and social-welfare programmes. Modi began a high-profile sanitation campaign, controversially initiated the 2016 demonetisation of high-denomination banknotes and introduced the Goods and Services Tax, and weakened or abolished environmental and labour laws.\n",
        "\n",
        "Modi's administration launched the 2019 Balakot airstrike against an alleged terrorist training camp in Pakistan. The airstrike failed,[13][14] and the deaths of six Indian personnel to friendly fire was later revealed: but the action had nationalist appeal.[15] Modi's party comfortably won the 2019 general election which followed.[16] In its second term, his administration revoked the special status of Jammu and Kashmir, an Indian-administred portion of the disputed Kashmir region,[17][18] and introduced the Citizenship Amendment Act, prompting widespread protests, and spurring the 2020 Delhi riots in which Muslims were brutalised and killed by Hindu mobs,[19][20][21] sometimes with the complicity of police forces controlled by the Modi administration.[22][23] Three controversial farm laws, led to sit-ins by farmers across the country, eventually causing their formal repeal. Modi oversaw India's response to the COVID-19 pandemic, during which 4.7 million Indians died, according to the World Health Organization's estimates.[24][25]\n",
        "\n",
        "Under Modi's tenure, India has experienced democratic backsliding, or the weakening of democratic institutions, individual rights, and freedom of expression.[26][27][g] As prime minister, he has received consistently high approval ratings.[33][34][35] Modi has been described as engineering a political realignment towards right-wing politics. He remains a controversial figure domestically and internationally, over his Hindu nationalist beliefs and handling of the 2002 Gujarat riots, which have been cited as evidence of a majoritarian and exclusionary social agenda.[h]\n",
        "\"\"\""
      ],
      "metadata": {
        "id": "fNe4-Q7myWep"
      },
      "execution_count": 19,
      "outputs": []
    },
    {
      "cell_type": "code",
      "source": [
        "sentences = nltk.sent_tokenize(paragraph)"
      ],
      "metadata": {
        "id": "p9vPaBBhycc3"
      },
      "execution_count": 29,
      "outputs": []
    },
    {
      "cell_type": "code",
      "source": [
        "from nltk.stem import PorterStemmer\n",
        "stemmer = PorterStemmer()\n",
        "nltk.download('stopwords')\n",
        "#from nltk.stem import WordNetLemmatizer\n",
        "#nltk.download('wordnet')\n",
        "corpus = []\n",
        "for i in range(len(sentences)):\n",
        "  sent =  re.sub('[^a-zA-Z]',' ',sentences[i])\n",
        "  sent = sent.lower()\n",
        "  sent  = nltk.word_tokenize(sent) # or sent.split()\n",
        "  sent = [stemmer.stem(word) for word in sent if not word in set(nltk.corpus.stopwords.words('english'))]\n",
        "  sent = ' '.join(sent)\n",
        "  corpus.append(sent)\n"
      ],
      "metadata": {
        "colab": {
          "base_uri": "https://localhost:8080/"
        },
        "id": "6RW_tnwOygjt",
        "outputId": "caede267-f0c3-4368-e27f-92bb4295a7ec"
      },
      "execution_count": 30,
      "outputs": [
        {
          "output_type": "stream",
          "name": "stderr",
          "text": [
            "[nltk_data] Downloading package stopwords to /root/nltk_data...\n",
            "[nltk_data]   Package stopwords is already up-to-date!\n"
          ]
        }
      ]
    },
    {
      "cell_type": "code",
      "source": [
        "corpus"
      ],
      "metadata": {
        "colab": {
          "base_uri": "https://localhost:8080/"
        },
        "id": "1UTyQBvCy8vc",
        "outputId": "88013ebb-1ba8-4dee-c1ce-9ac88acfe5e5"
      },
      "execution_count": 31,
      "outputs": [
        {
          "output_type": "execute_result",
          "data": {
            "text/plain": [
              "['narendra damodarda modi gujarati n end mod modi born septemb b indian politician serv th prime minist india sinc may',\n",
              " 'modi chief minist gujarat member parliament mp varanasi',\n",
              " 'member bharatiya janata parti bjp rashtriya swayamsevak sangh rss far right hindu nationalist paramilitari volunt organis',\n",
              " 'longest serv prime minist outsid indian nation congress',\n",
              " 'modi born rais vadnagar northeastern gujarat complet secondari educ',\n",
              " 'introduc rss age eight',\n",
              " 'account help father sell tea vadnagar railway station reliabl corrobor',\n",
              " 'age marri jashodaben modi abandon soon publicli acknowledg four decad later legal requir',\n",
              " 'modi becam full time worker rss gujarat',\n",
              " 'rss assign bjp held sever posit within parti hierarchi rise rank gener secretari',\n",
              " 'c modi appoint chief minist gujarat elect legisl assembl soon',\n",
              " 'administr consid complicit gujarat riot criticis manag crisi',\n",
              " 'littl peopl kill accord offici record three quarter muslim independ sourc estim death mostli muslim',\n",
              " 'special investig team appoint suprem court india found evid initi prosecut proceed',\n",
              " 'e polici chief minist credit encourag econom growth prais modi administr criticis fail significantli improv health poverti educ indic state',\n",
              " 'f indian gener elect modi led bjp parliamentari major first parti sinc',\n",
              " 'administr increas direct foreign invest reduc spend healthcar educ social welfar programm',\n",
              " 'modi began high profil sanit campaign controversi initi demonetis high denomin banknot introduc good servic tax weaken abolish environment labour law',\n",
              " 'modi administr launch balakot airstrik alleg terrorist train camp pakistan',\n",
              " 'airstrik fail death six indian personnel friendli fire later reveal action nationalist appeal',\n",
              " 'modi parti comfort gener elect follow',\n",
              " 'second term administr revok special statu jammu kashmir indian administr portion disput kashmir region introduc citizenship amend act prompt widespread protest spur delhi riot muslim brutalis kill hindu mob sometim complic polic forc control modi administr',\n",
              " 'three controversi farm law led sit in farmer across countri eventu caus formal repeal',\n",
              " 'modi oversaw india respons covid pandem million indian die accord world health organ estim',\n",
              " 'modi tenur india experienc democrat backslid weaken democrat institut individu right freedom express',\n",
              " 'g prime minist receiv consist high approv rate',\n",
              " 'modi describ engin polit realign toward right wing polit',\n",
              " 'remain controversi figur domest intern hindu nationalist belief handl gujarat riot cite evid majoritarian exclusionari social agenda',\n",
              " 'h']"
            ]
          },
          "metadata": {},
          "execution_count": 31
        }
      ]
    },
    {
      "cell_type": "code",
      "source": [
        "# Bag of Words\n",
        "from sklearn.feature_extraction.text import CountVectorizer\n",
        "cv = CountVectorizer(lowercase=True,max_features=1500)\n",
        "X = cv.fit_transform(corpus)"
      ],
      "metadata": {
        "id": "pVRNexWyy9p-"
      },
      "execution_count": 33,
      "outputs": []
    },
    {
      "cell_type": "code",
      "source": [
        "X = X.toarray()"
      ],
      "metadata": {
        "id": "3AzPcTSA7SMj"
      },
      "execution_count": 36,
      "outputs": []
    },
    {
      "cell_type": "code",
      "source": [
        "# TF-IDF\n",
        "from sklearn.feature_extraction.text import TfidfVectorizer\n",
        "vectorizer = TfidfVectorizer()\n",
        "X = vectorizer.fit_transform(corpus)"
      ],
      "metadata": {
        "id": "xAi2JVS57k3E"
      },
      "execution_count": 42,
      "outputs": []
    },
    {
      "cell_type": "code",
      "source": [
        "X = X.toarray()"
      ],
      "metadata": {
        "id": "KVN80MHT82rK"
      },
      "execution_count": 45,
      "outputs": []
    },
    {
      "cell_type": "code",
      "source": [
        "X[0]"
      ],
      "metadata": {
        "colab": {
          "base_uri": "https://localhost:8080/"
        },
        "id": "Jz1pCQQO_O6q",
        "outputId": "495e6b89-3e8e-47da-f4c1-e52c590ebaee"
      },
      "execution_count": 46,
      "outputs": [
        {
          "output_type": "execute_result",
          "data": {
            "text/plain": [
              "array([0.        , 0.        , 0.        , 0.        , 0.        ,\n",
              "       0.        , 0.        , 0.        , 0.        , 0.        ,\n",
              "       0.        , 0.        , 0.        , 0.        , 0.        ,\n",
              "       0.        , 0.        , 0.        , 0.        , 0.        ,\n",
              "       0.        , 0.        , 0.        , 0.        , 0.        ,\n",
              "       0.        , 0.        , 0.23588821, 0.        , 0.        ,\n",
              "       0.        , 0.        , 0.        , 0.        , 0.        ,\n",
              "       0.        , 0.        , 0.        , 0.        , 0.        ,\n",
              "       0.        , 0.        , 0.        , 0.        , 0.        ,\n",
              "       0.        , 0.        , 0.        , 0.        , 0.        ,\n",
              "       0.        , 0.26484868, 0.        , 0.        , 0.        ,\n",
              "       0.        , 0.        , 0.        , 0.        , 0.        ,\n",
              "       0.        , 0.        , 0.        , 0.        , 0.        ,\n",
              "       0.        , 0.        , 0.        , 0.26484868, 0.        ,\n",
              "       0.        , 0.        , 0.        , 0.        , 0.        ,\n",
              "       0.        , 0.        , 0.        , 0.        , 0.        ,\n",
              "       0.        , 0.        , 0.        , 0.        , 0.        ,\n",
              "       0.        , 0.        , 0.        , 0.        , 0.        ,\n",
              "       0.        , 0.        , 0.        , 0.        , 0.        ,\n",
              "       0.        , 0.        , 0.        , 0.26484868, 0.        ,\n",
              "       0.        , 0.        , 0.        , 0.        , 0.        ,\n",
              "       0.        , 0.        , 0.        , 0.        , 0.        ,\n",
              "       0.        , 0.19940232, 0.17536968, 0.        , 0.        ,\n",
              "       0.        , 0.        , 0.        , 0.        , 0.        ,\n",
              "       0.        , 0.        , 0.        , 0.        , 0.        ,\n",
              "       0.        , 0.        , 0.        , 0.        , 0.        ,\n",
              "       0.        , 0.        , 0.        , 0.        , 0.        ,\n",
              "       0.        , 0.        , 0.        , 0.        , 0.26484868,\n",
              "       0.        , 0.        , 0.17536968, 0.        , 0.26484868,\n",
              "       0.2326478 , 0.        , 0.        , 0.        , 0.26484868,\n",
              "       0.        , 0.        , 0.        , 0.        , 0.        ,\n",
              "       0.        , 0.        , 0.        , 0.        , 0.        ,\n",
              "       0.        , 0.        , 0.        , 0.        , 0.        ,\n",
              "       0.        , 0.        , 0.        , 0.        , 0.26484868,\n",
              "       0.        , 0.        , 0.        , 0.        , 0.21534042,\n",
              "       0.        , 0.        , 0.        , 0.        , 0.        ,\n",
              "       0.        , 0.        , 0.        , 0.        , 0.        ,\n",
              "       0.        , 0.        , 0.        , 0.        , 0.        ,\n",
              "       0.        , 0.        , 0.        , 0.        , 0.        ,\n",
              "       0.        , 0.        , 0.        , 0.        , 0.        ,\n",
              "       0.        , 0.        , 0.        , 0.        , 0.        ,\n",
              "       0.        , 0.        , 0.        , 0.        , 0.        ,\n",
              "       0.26484868, 0.23588821, 0.        , 0.        , 0.        ,\n",
              "       0.23588821, 0.        , 0.        , 0.        , 0.        ,\n",
              "       0.        , 0.        , 0.        , 0.        , 0.        ,\n",
              "       0.        , 0.        , 0.        , 0.        , 0.        ,\n",
              "       0.        , 0.        , 0.        , 0.        , 0.        ,\n",
              "       0.        , 0.26484868, 0.        , 0.        , 0.        ,\n",
              "       0.        , 0.        , 0.        , 0.        , 0.        ,\n",
              "       0.        , 0.        , 0.        , 0.        , 0.        ,\n",
              "       0.        ])"
            ]
          },
          "metadata": {},
          "execution_count": 46
        }
      ]
    },
    {
      "cell_type": "code",
      "source": [],
      "metadata": {
        "id": "eNUgq61n_Uzb"
      },
      "execution_count": null,
      "outputs": []
    }
  ]
}